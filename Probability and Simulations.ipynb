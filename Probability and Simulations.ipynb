{
 "cells": [
  {
   "cell_type": "markdown",
   "id": "83ddfbef-cb15-4e90-897a-fac77cf6f554",
   "metadata": {},
   "source": [
    "# Probability and Simulation"
   ]
  },
  {
   "cell_type": "markdown",
   "id": "be489861-1c2a-4853-a090-cf717dd1fc51",
   "metadata": {},
   "source": [
    "This activity's learning goals are to have you practice...\n",
    "\n",
    "    1. Designing experiments to test hypotheses\n",
    "    2. Using the rules of probability to model phenomena\n",
    "    3. Implementing probabilistic models in Python\n",
    "    4. Using basic statistical techniques to analyze experimental results"
   ]
  },
  {
   "cell_type": "markdown",
   "id": "7f8bcaab-8ded-46a3-bab1-20db9c0c983c",
   "metadata": {},
   "source": [
    "To start, let's familiarize ourselves with making generative probabilistic models using scipy stats. For full details for this code, you should reference the [official documentation](https://docs.scipy.org/doc/scipy/reference/stats.html) (they're so useful, in fact, I have the docs open while I'm writing this assignment!). \n",
    "\n",
    "Suppose I want to simulate a coin flip. We can do that by first identifying that a coin flip can be described as a [Bernoulli trial](https://en.wikipedia.org/wiki/Bernoulli_trial), a trial where either the set of outcomes $\\Omega$ is has only two options: one with probability $p$ and another with probability $1-p$. Scipy stats represents that distribution as a `bernoulli` object, from which you can sample with a given $p$ by using the `rvs` (i.e., random variable(s)) function."
   ]
  },
  {
   "cell_type": "code",
   "execution_count": 21,
   "id": "65c2a698-1c23-4494-ad2e-f8564901ec26",
   "metadata": {},
   "outputs": [
    {
     "name": "stdout",
     "output_type": "stream",
     "text": [
      "0\n",
      "[0 1 0 1 0 1 1 0 1 0]\n"
     ]
    }
   ],
   "source": [
    "from scipy import stats\n",
    "\n",
    "print(stats.bernoulli.rvs(p=0.5)) # A single flip\n",
    "\n",
    "print(stats.bernoulli.rvs(p=0.5, size=10)) # Flip the coin 10 times"
   ]
  },
  {
   "cell_type": "markdown",
   "id": "d4ff727f-351d-43a5-b993-20b24e71d0e3",
   "metadata": {},
   "source": [
    "Since this is a bernoulli trial and not a coin flip, the code outputs a 1 or a 0 rather than heads or tails. For our purposes, translating back to Hs and Ts is fairly straightforward, and it might actually be beneficial to keep everything in a numeric format (for, say, counting the number of heads). \n",
    "\n",
    "For now, let's assume 1 = H and 2 = T. Then we can write a coin_flip function like this:"
   ]
  },
  {
   "cell_type": "code",
   "execution_count": 23,
   "id": "159147c9-4ff3-4221-9ff9-040c5eceb891",
   "metadata": {},
   "outputs": [],
   "source": [
    "def coin_flip() -> int:\n",
    "    return stats.bernoulli.rvs(p=0.5)"
   ]
  },
  {
   "cell_type": "code",
   "execution_count": 29,
   "id": "308773b2-d44f-41f1-b05b-857111006ba7",
   "metadata": {},
   "outputs": [
    {
     "name": "stdout",
     "output_type": "stream",
     "text": [
      "0\n"
     ]
    }
   ],
   "source": [
    "print(coin_flip())"
   ]
  },
  {
   "cell_type": "markdown",
   "id": "7dacf9cf-cf37-47e0-b6bb-50fed17674fe",
   "metadata": {},
   "source": [
    "We could also do this in a less fancy way using pythons built-in randomization functions (but that doesn't let me sneak references to probability terminology, so it's less fun). *But*, it's worth seeing anyway, especially since this extends to more complex scenarios, like dice!"
   ]
  },
  {
   "cell_type": "code",
   "execution_count": 60,
   "id": "30dc5b68-4ab4-4511-8a64-69be10ba3a0c",
   "metadata": {},
   "outputs": [
    {
     "name": "stdout",
     "output_type": "stream",
     "text": [
      "1\n",
      "[0]\n",
      "[1, 1, 1, 0, 0, 1, 1, 0, 1, 0]\n",
      "5\n",
      "[5]\n",
      "2\n"
     ]
    }
   ],
   "source": [
    "import random\n",
    "\n",
    "print(random.choice([0,1])) # A coin flip! Choice assume equal weights\n",
    "print(random.choices([0,1], weights=[0.5, 0.5])) # the same, but we specify the weights/probabilities of each option. Note that we get a list!\n",
    "print(random.choices([0,1], weights=[0.5, 0.5], k=10)) # we get a list because it's meant to sample multiple times, like rvs!\n",
    "\n",
    "# This extends to sampling from more complex discrete distributions over finite spaces!\n",
    "# Here, a 6-sided die/d6\n",
    "print(random.choice([1,2,3,4,5,6]))\n",
    "print(random.choices([1,2,3,4,5,6], weights=[1/6]*6))\n",
    "\n",
    "# You can also do this in scipy stats, but it's less fun\n",
    "X = stats.rv_discrete(values=([1,2,3,4,5,6],\n",
    "                              [1/6]*6))\n",
    "print(X.rvs())"
   ]
  },
  {
   "cell_type": "markdown",
   "id": "4817dd79-d13b-4417-9ee8-8295561007f5",
   "metadata": {},
   "source": [
    "But, back to the coin flips.\n",
    "\n",
    "As simple as this is, we have built a generative model of a single coin flip! We can, at will, simulate a coin flip as many times as we want!\n",
    "\n",
    "To get ourselves warmed up, complete the code block below to test whether scipy's stats functions are reasonable: simulate a lot of coin flips and see if the coin is in fact fair! Note that the code will give an error until it's completed.\n",
    "\n",
    "(Note: Now would it be more efficient to use the size parameter of `bernoulli`? yes. But it makes the relationship between the model and the evaluation a little messier! Bear with me!)."
   ]
  },
  {
   "cell_type": "code",
   "execution_count": 41,
   "id": "171a6c1c-4eba-4450-bd72-115fe2e31d08",
   "metadata": {},
   "outputs": [
    {
     "ename": "ZeroDivisionError",
     "evalue": "division by zero",
     "output_type": "error",
     "traceback": [
      "\u001b[0;31m---------------------------------------------------------------------------\u001b[0m",
      "\u001b[0;31mZeroDivisionError\u001b[0m                         Traceback (most recent call last)",
      "Cell \u001b[0;32mIn[41], line 9\u001b[0m\n\u001b[1;32m      4\u001b[0m \u001b[38;5;66;03m# TODO: fill flips with a bunch of samples from the coin_flip function\u001b[39;00m\n\u001b[1;32m      5\u001b[0m \n\u001b[1;32m      6\u001b[0m \u001b[38;5;66;03m# plot the results\u001b[39;00m\n\u001b[1;32m      7\u001b[0m fig, ax \u001b[38;5;241m=\u001b[39m plt\u001b[38;5;241m.\u001b[39msubplots()\n\u001b[1;32m      8\u001b[0m ax\u001b[38;5;241m.\u001b[39mbar([\u001b[38;5;124m\"\u001b[39m\u001b[38;5;124mH\u001b[39m\u001b[38;5;124m\"\u001b[39m, \u001b[38;5;124m\"\u001b[39m\u001b[38;5;124mT\u001b[39m\u001b[38;5;124m\"\u001b[39m], \n\u001b[0;32m----> 9\u001b[0m        [\u001b[38;5;28;43msum\u001b[39;49m\u001b[43m(\u001b[49m\u001b[43mflips\u001b[49m\u001b[43m)\u001b[49m\u001b[38;5;241;43m/\u001b[39;49m\u001b[38;5;28;43mlen\u001b[39;49m\u001b[43m(\u001b[49m\u001b[43mflips\u001b[49m\u001b[43m)\u001b[49m, \u001b[38;5;241m1\u001b[39m \u001b[38;5;241m-\u001b[39m (\u001b[38;5;28msum\u001b[39m(flips)\u001b[38;5;241m/\u001b[39m\u001b[38;5;28mlen\u001b[39m(flips))])\n\u001b[1;32m     10\u001b[0m plt\u001b[38;5;241m.\u001b[39mshow()\n",
      "\u001b[0;31mZeroDivisionError\u001b[0m: division by zero"
     ]
    },
    {
     "data": {
      "image/png": "[encoded data removed]",
      "text/plain": [
       "<Figure size 640x480 with 1 Axes>"
      ]
     },
     "metadata": {},
     "output_type": "display_data"
    }
   ],
   "source": [
    "import matplotlib.pyplot as plt\n",
    "flips = []\n",
    "\n",
    "# TODO: fill flips with a bunch of samples from the coin_flip function\n",
    "\n",
    "# plot the results\n",
    "fig, ax = plt.subplots()\n",
    "ax.bar([\"H\", \"T\"], \n",
    "       [sum(flips)/len(flips), 1 - (sum(flips)/len(flips))])\n",
    "plt.show()\n"
   ]
  },
  {
   "cell_type": "markdown",
   "id": "7a5eb25f-f80c-4567-a08d-881bb0fbcd8b",
   "metadata": {},
   "source": [
    "This also let's us reverse engineer what the probability distribution we started with was, with a little noise due to the randomness. This is referred to as a **Monte Carlo method**: For complex situations, it's sometimes easier to model the generative process and sample from it a lot of times to estimate a probability (here, the probabilities of a heads vs a tails) than to work out the probabilities by hand. This is probably not true for a coin flip, but might be true in another scenario.\n",
    "\n",
    "## Monty Hall\n",
    "Consider the **Monty Hall Problem**. A game show host presents the contestant with three doors. Behind each of them is a prize: 2 of them are not-so-great (cannonically these are goats!), and one is the most financially desirable (a new car!). The contestant then picks a door. Here the odds are unequivocally 1 in 3 to get the car (hopefully!). However, *before you see what's behind the door you chose*, the host (Monty Hall) will open a door you didn't pick to reveal a goat. He then gives you the opportunity to swap to the other unopened door. Should you swap?\n",
    "\n",
    "This problem is intuitively very tricky --- it's said that Paul Erdős, a famous mathematician, was convinced of the wrong answer until he was shown a computer simulation!. Apocryphal or not, discuss the problem, share your intuitions, and attempt a simulation! \n",
    "\n",
    "1. Write functions `MontyHallSwap` and `MontyHallStay` that simulate the two strategies. Return 1 if they win (get a car) and 0 if they don't (i.e., get a goat). \n",
    "2. Simulate the strategies `n` times\n",
    "3. Plot the results, adjusting the plotting code from above. Plot the odds of winning the car in each circumstance."
   ]
  },
  {
   "cell_type": "code",
   "execution_count": 73,
   "id": "d53183bb-676c-4552-9539-ab692ecf197e",
   "metadata": {},
   "outputs": [],
   "source": [
    "n = 1000 # Number of trials to simulate. Feel free to adjust!\n",
    "\n",
    "def MontyHallSwap() -> int:\n",
    "    # TODO\n",
    "    pass\n",
    "    \n",
    "def MontyHallStay() -> int:\n",
    "    # TODO\n",
    "    pass\n",
    "\n",
    "# TODO: simulate n trials for each strategy\n",
    "\n",
    "# TODO: Plot the odds of winning in each case."
   ]
  },
  {
   "cell_type": "markdown",
   "id": "7a7c55eb-70dc-410a-9f70-a101c19fe7ca",
   "metadata": {},
   "source": [
    "What is the result? Are your intuitions (or what you've been told) right? \n",
    "\n",
    "The key tool here is using simulation as a way to estimate a probability (or check your work if you've already computed the probability analytically!). You can extend this to other situations where things might be tricky/annoying/intractable to compute by hand (or if you've forgotten some rules of probability...:\n",
    "\n",
    "**Bonus Qs: DO NOT ATTEMPT UNTIL COMPLETING ALL OTHER PARTS**\n",
    "\n",
    "1. Suppose you roll 2 fair 20-sided dice and take the greater value. What are the odds you roll any particular value? Estimate the values and plot a histogram.\n",
    "2. Suppose you roll a fair 6-sided die, and if it rolled a 6, you repeated the process until you didn't roll a 6. Let our random variable represent the sum of all of the dice rolled. Estimate the probability of rolling any particular number and plot a histogram."
   ]
  },
  {
   "cell_type": "markdown",
   "id": "454a7248-9fa3-4589-80f5-f5f1e11ced56",
   "metadata": {},
   "source": [
    "## Likelihoods and plausibility\n",
    "\n",
    "Suppose you flip a coin 10 times and get the following sequence: H H H H T H H H H H. What are the odds the coin is fair?\n",
    "\n",
    "One way of figuring that out is by determining the likelihood of the event under our (hypothetical!) fair coin model. If the coin were fair, what are the odds that our model would have generated it. We can write this likelihood out mathematically as a conditional probability: $p(\\text{sequence} \\mid \\text{fair coin})$. This is to be read as \"The probability our sequence is generated assuming the coin is fair\". More fancily, we can think of this as \"the likelihood of this sequence being generated by a fair coin\". \n",
    "\n",
    "Using the sampling approach and our coin-flipping model from above, estimate the likelihood of the above sequence of heads in a row appearing. You may have to use a fairly large number of samples to get a good estimate!"
   ]
  },
  {
   "cell_type": "code",
   "execution_count": 82,
   "id": "0ec009ca-dec5-4410-8f02-125dd21fa3d7",
   "metadata": {},
   "outputs": [
    {
     "name": "stdout",
     "output_type": "stream",
     "text": [
      "0.000986\n"
     ]
    }
   ],
   "source": [
    "import numpy as np\n",
    "\n",
    "seq_1 = [1, 1, 1, 1, 0, 1, 1, 1, 1, 1]\n",
    "\n",
    "# TODO: Simulate a large number of fair 10-coin-flip sequences\n",
    "\n",
    "# TODO: Estimate the likelihood of seq_1 "
   ]
  },
  {
   "cell_type": "markdown",
   "id": "b4b1e0d0-11f9-41da-a7a4-f45577b509b2",
   "metadata": {},
   "source": [
    "A low likelihood would indicate that the coin isn't quite fair! But, for a sanity check, use your code to estimate the likelihood of these other sequences that seem more reasonable! In fact, to guarantee that our fair comparison was generated by a random process, lets generate `seq_3` using our simulator!"
   ]
  },
  {
   "cell_type": "code",
   "execution_count": 83,
   "id": "ab932a88-7874-44cc-8932-f225176ff16a",
   "metadata": {},
   "outputs": [],
   "source": [
    "seq_2 = [0, 1, 1, 0, 0, 1, 1, 0, 1, 0]\n",
    "seq_3 = [coin_flip() for _ in range(10)] \n",
    "\n",
    "# TODO: Estimate the likelihoods of each sequence\n"
   ]
  },
  {
   "cell_type": "markdown",
   "id": "0457cf1f-9600-4faf-9717-8ebbd6b6da1f",
   "metadata": {},
   "source": [
    "Lo and behold, if all worked out, all their likelihoods should be roughly the same (roughly $\\frac{1}{2^{10}}$!). \n",
    "\n",
    "It turns out this exact sequence is as reasonable as any other. However, lets narrow in on what's weird about this experimental outcome: the number of heads that we flipped. \n",
    "\n",
    "Redo your simulation, but this time count the **number** of heads in each trial. What are the odds that we flip 9 heads in 10 trials? Compare that to the likelihood of 5 as in seq_2."
   ]
  },
  {
   "cell_type": "code",
   "execution_count": 86,
   "id": "46c8afcd-e88e-4e48-97ad-914bd05dfe73",
   "metadata": {},
   "outputs": [
    {
     "name": "stdout",
     "output_type": "stream",
     "text": [
      "0.009661\n",
      "0.246138\n"
     ]
    }
   ],
   "source": [
    "# TODO: Estimate the likelihood of 9 heads being flipped.\n"
   ]
  },
  {
   "cell_type": "markdown",
   "id": "11448805-10d8-4b3b-bdc8-21a5a6b09f50",
   "metadata": {},
   "source": [
    "They should be much different! \n",
    "\n",
    "Now lets make one adjustment so I can create a self-described clever teaching moment: What are the odds that we would get this sequence, or something *more extreme* given that the coin were fair. i.e., adjust your code so you compute the likelihood that you get a 9 *or greater* assuming your coin was fair."
   ]
  },
  {
   "cell_type": "code",
   "execution_count": 89,
   "id": "72b01c07-b4bd-41b9-a3b4-f2601e003b28",
   "metadata": {},
   "outputs": [
    {
     "name": "stdout",
     "output_type": "stream",
     "text": [
      "0.01058\n"
     ]
    }
   ],
   "source": [
    "# TODO: Estimate the likelihood of 9+ heads being flipped.\n"
   ]
  },
  {
   "cell_type": "markdown",
   "id": "efbf7be3-6a35-48c0-bce6-c2c1fd4321aa",
   "metadata": {},
   "source": [
    "This is, formally, $p(\\geq 9\\text{ heads} \\mid \\text{fair coin})$. Now lets let, say, $T$ represent the heads count of 10 coin flips, let $t=9$ be the observed number of heads in our data, and lets refer to the coin being fair as the *null hypothesis* $H_0$. \n",
    "\n",
    "Then what we have just done is estimate $p(T \\geq t \\mid H_0)$ something we call a *p-value*: the likelihood that we observe something as or more extreme than our data given that we assume the null hypothesis (i.e., nothing of interest is happening). In many empirical domains, the p-value is used for statistical significance testing: if our $p$ is lower than some threshold (called $\\alpha$, typically $0.05$), we *reject the null hypothesis* and presume something more interesting is going on! \n",
    "\n",
    "Here, that means that if the likelihood you computed is under $0.05$ (hopefully it is, or your estimate is a bit off!), we can reject the  (null) hypothesis that the coin is fair, and under typical scientific practice assume it's rigged!\n",
    "\n",
    "Out of care for the mental health of statisticians in the department, I must, however, inform you that this likelihood is NOT the probability that the coin is fair given the data! Take a moment to convince yourself that that's true (write out the conditional probability representing that!) and, as a **bonus**, describe the relationship between the two using the analytical tools from the reading."
   ]
  },
  {
   "cell_type": "markdown",
   "id": "1981f98e-4f48-4cb1-8d98-13fa82366314",
   "metadata": {},
   "source": [
    "Also note: While you might do some hypothesis testing in this course (perhaps in a course project, or maybe using a more conventional method that [scipy stats provides](https://docs.scipy.org/doc/scipy/reference/stats.html#hypothesis-tests-and-related-functions)), for this course, we'll often be using the likelihood of data under a model (namely, the likelihood of a corpus given a particular language model) as a measure of a model's quality. "
   ]
  }
 ],
 "metadata": {
  "kernelspec": {
   "display_name": "Python 3 (ipykernel)",
   "language": "python",
   "name": "python3"
  },
  "language_info": {
   "codemirror_mode": {
    "name": "ipython",
    "version": 3
   },
   "file_extension": ".py",
   "mimetype": "text/x-python",
   "name": "python",
   "nbconvert_exporter": "python",
   "pygments_lexer": "ipython3",
   "version": "3.10.12"
  }
 },
 "nbformat": 4,
 "nbformat_minor": 5
}
